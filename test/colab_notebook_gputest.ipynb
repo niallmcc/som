{
  "nbformat": 4,
  "nbformat_minor": 0,
  "metadata": {
    "colab": {
      "name": "Untitled2.ipynb",
      "provenance": []
    },
    "kernelspec": {
      "name": "python3",
      "display_name": "Python 3"
    },
    "language_info": {
      "name": "python"
    },
    "accelerator": "GPU",
    "gpuClass": "standard"
  },
  "cells": [
    {
      "cell_type": "code",
      "source": [
        "# Make sure the runtime has GPU"
      ],
      "metadata": {
        "id": "GzYsxVi_jonT"
      },
      "execution_count": 12,
      "outputs": []
    },
    {
      "cell_type": "markdown",
      "source": [
        ""
      ],
      "metadata": {
        "id": "jvdTg-qPjmrk"
      }
    },
    {
      "cell_type": "code",
      "execution_count": 1,
      "metadata": {
        "colab": {
          "base_uri": "https://localhost:8080/"
        },
        "id": "XN58HpiyLEsX",
        "outputId": "850d0852-4d0c-4db9-d28f-181293cc97d9"
      },
      "outputs": [
        {
          "output_type": "stream",
          "name": "stdout",
          "text": [
            "--2022-06-30 11:11:35--  https://gws-access.jasmin.ac.uk/public/nceo_uor/niall/sla_c3s_clim.nc\n",
            "Resolving gws-access.jasmin.ac.uk (gws-access.jasmin.ac.uk)... 130.246.130.115\n",
            "Connecting to gws-access.jasmin.ac.uk (gws-access.jasmin.ac.uk)|130.246.130.115|:443... connected.\n",
            "HTTP request sent, awaiting response... 200 OK\n",
            "Length: 20846243 (20M) [application/x-netcdf]\n",
            "Saving to: ‘sla_c3s_clim.nc.2’\n",
            "\n",
            "sla_c3s_clim.nc.2   100%[===================>]  19.88M  13.2MB/s    in 1.5s    \n",
            "\n",
            "2022-06-30 11:11:38 (13.2 MB/s) - ‘sla_c3s_clim.nc.2’ saved [20846243/20846243]\n",
            "\n"
          ]
        }
      ],
      "source": [
        "!wget https://gws-access.jasmin.ac.uk/public/nceo_uor/niall/sla_c3s_clim.nc"
      ]
    },
    {
      "cell_type": "code",
      "source": [
        "!pip install https://github.com/niallmcc/som/archive/refs/tags/0.2.1.zip"
      ],
      "metadata": {
        "colab": {
          "base_uri": "https://localhost:8080/"
        },
        "id": "_x4I7MtbMWGw",
        "outputId": "97adc670-806a-4e63-f8c6-6b354c7be348"
      },
      "execution_count": 8,
      "outputs": [
        {
          "output_type": "stream",
          "name": "stdout",
          "text": [
            "Looking in indexes: https://pypi.org/simple, https://us-python.pkg.dev/colab-wheels/public/simple/\n",
            "Collecting https://github.com/niallmcc/som/archive/refs/tags/0.2.1.zip\n",
            "  Downloading https://github.com/niallmcc/som/archive/refs/tags/0.2.1.zip\n",
            "\u001b[K     / 397 kB 1.4 MB/s\n",
            "\u001b[?25hBuilding wheels for collected packages: som\n",
            "  Building wheel for som (setup.py) ... \u001b[?25l\u001b[?25hdone\n",
            "  Created wheel for som: filename=som-0.2.1-py3-none-any.whl size=9843 sha256=b7a0c96bac1d4521043e28df928e4195c61df3996d1269e881014182145d721f\n",
            "  Stored in directory: /tmp/pip-ephem-wheel-cache-w48k_ok1/wheels/33/a8/51/b194d16e8313f26bf62aefe4f9b75e8f922a0ecb8252f1d37d\n",
            "Successfully built som\n",
            "Installing collected packages: som\n",
            "  Attempting uninstall: som\n",
            "    Found existing installation: som 0.2.0\n",
            "    Uninstalling som-0.2.0:\n",
            "      Successfully uninstalled som-0.2.0\n",
            "Successfully installed som-0.2.1\n"
          ]
        }
      ]
    },
    {
      "cell_type": "code",
      "source": [
        "!pip install cupy"
      ],
      "metadata": {
        "colab": {
          "base_uri": "https://localhost:8080/"
        },
        "id": "r2-jHmnAPckS",
        "outputId": "1cde5803-08d4-4cfd-a0ca-3b8fdabd7935"
      },
      "execution_count": 3,
      "outputs": [
        {
          "output_type": "stream",
          "name": "stdout",
          "text": [
            "Looking in indexes: https://pypi.org/simple, https://us-python.pkg.dev/colab-wheels/public/simple/\n",
            "Collecting cupy\n",
            "  Using cached cupy-10.6.0.tar.gz (1.7 MB)\n",
            "Requirement already satisfied: numpy<1.25,>=1.18 in /usr/local/lib/python3.7/dist-packages (from cupy) (1.21.6)\n",
            "Requirement already satisfied: fastrlock>=0.5 in /usr/local/lib/python3.7/dist-packages (from cupy) (0.8)\n",
            "Building wheels for collected packages: cupy\n",
            "  Building wheel for cupy (setup.py) ... \u001b[?25l\u001b[?25hdone\n",
            "  Created wheel for cupy: filename=cupy-10.6.0-cp37-cp37m-linux_x86_64.whl size=95416963 sha256=503504dbbc8318a04e9e65c7ce66fc216ca8c8d6bce4e187eacbe6e6d3d4509b\n",
            "  Stored in directory: /root/.cache/pip/wheels/19/5b/ec/08962bd624053db64c5da794057c80db9fc35d25412bbe9a31\n",
            "Successfully built cupy\n",
            "Installing collected packages: cupy\n",
            "Successfully installed cupy-10.6.0\n"
          ]
        }
      ]
    },
    {
      "cell_type": "code",
      "source": [
        "!somrun sla_c3s_clim.nc sla_c3s results.nc sla_som --preserve-dimensions lat lon --minibatch_size 1000"
      ],
      "metadata": {
        "colab": {
          "base_uri": "https://localhost:8080/"
        },
        "id": "gZTWPshtNomw",
        "outputId": "b3de3c95-5097-4911-fc2c-5c75972461c6"
      },
      "execution_count": 10,
      "outputs": [
        {
          "output_type": "stream",
          "name": "stdout",
          "text": [
            "INFO:root:Reading input data from sla_c3s_clim.nc\n",
            "INFO:SomRunner:Calling fit_transform, cupy_enabled=True\n",
            "SOM Training neighbourhood=0 99%   #################################################\n",
            "SOM Fit-Transform completed\n",
            "INFO:SomRunner:Called fit_transform\n",
            "INFO:root:Elapsed time: 21 seconds\n",
            "INFO:root:Written outptut data to results.nc\n"
          ]
        }
      ]
    }
  ]
}